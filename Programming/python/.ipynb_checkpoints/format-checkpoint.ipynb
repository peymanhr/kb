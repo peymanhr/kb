{
 "cells": [
  {
   "cell_type": "markdown",
   "metadata": {},
   "source": [
    "# Python string formatting\n",
    "*By: peymanhr*"
   ]
  },
  {
   "cell_type": "markdown",
   "metadata": {},
   "source": [
    "## Basic formatting\n",
    "\n",
    "Format strings contain “replacement fields” surrounded by curly braces `{}`. Anything that is not contained in braces is considered literal text, which is returned unchanged. If you need to scape a brace character in the literal text, it can be escaped by doubling: `{{ and }}`."
   ]
  },
  {
   "cell_type": "code",
   "execution_count": null,
   "metadata": {},
   "outputs": [],
   "source": [
    "'Hello {}, your balance is {} BTC'.format('Peyman', 0.0345)"
   ]
  },
  {
   "cell_type": "markdown",
   "metadata": {},
   "source": [
    "## Numbered Placeholders"
   ]
  },
  {
   "cell_type": "code",
   "execution_count": null,
   "metadata": {},
   "outputs": [],
   "source": [
    "'You spent {1} {0}. Your new balance is {2} {0}'.format('BTC', 0.031, 0.0035)"
   ]
  },
  {
   "cell_type": "markdown",
   "metadata": {},
   "source": [
    "## Named placeholders"
   ]
  },
  {
   "cell_type": "code",
   "execution_count": null,
   "metadata": {},
   "outputs": [],
   "source": [
    "'Current temperature in {city} is {temp} \\u2103'.format(city='Tehran', temp=34.6)"
   ]
  },
  {
   "cell_type": "markdown",
   "metadata": {},
   "source": [
    "## Conversion with  `__format__` magic method\n",
    "\n",
    "String formatter calls the `__format__` method of an object. If you want to use the return of `__str__` or `__repr__` you can use the `!s` or `!r` after position or name in a placeholder."
   ]
  },
  {
   "cell_type": "code",
   "execution_count": null,
   "metadata": {},
   "outputs": [],
   "source": [
    "class Card:\n",
    "    symbols = {'S': {'name': 'Spade',   'unicode': '\\u2660'},\n",
    "               'H': {'name': 'Heart',   'unicode': '\\u2665'},\n",
    "               'D': {'name': 'Diamond', 'unicode': '\\u2666'},\n",
    "               'C': {'name': 'Club',    'unicode': '\\u2663'}}\n",
    "    \n",
    "    def __init__(self, rank, suit):\n",
    "        self.rank = rank\n",
    "        self.suit = suit\n",
    "    \n",
    "    def __format__(self, formatstr):\n",
    "        return self.rank + self.symbols[self.suit]['unicode']\n",
    "\n",
    "    def __str__(self):\n",
    "        return self.rank + ' of ' + self.symbols[self.suit]['name']\n",
    "\n",
    "    def __repr__(self):\n",
    "        return self.__class__.__name__ + '(\\'' + self.rank + '\\', \\'' + self.suit + '\\')'\n",
    "\n",
    "\n",
    "deck = [Card(rank, suit)\n",
    "        for rank in ('2','3','4','5','6','7','8','9','10','J','Q','K','A')\n",
    "        for suit in 'SHDC']\n",
    "\n",
    "from random import choice\n",
    "print('Your random card is {card}'.format(card=choice(deck)))\n",
    "print('Your random card is {card!s}'.format(card=choice(deck)))\n",
    "print('Your random card is {card!r}'.format(card=choice(deck)))"
   ]
  },
  {
   "cell_type": "markdown",
   "metadata": {},
   "source": [
    "## Format Specification\n",
    "\n",
    "```\n",
    "format_spec ::=  [[fill]align][sign][#][0][width][,][.precision][type]\n",
    "fill        ::=  <a character other than '}'>\n",
    "align       ::=  \"<\" | \">\" | \"=\" | \"^\"\n",
    "sign        ::=  \"+\" | \"-\" | \" \"\n",
    "width       ::=  integer\n",
    "precision   ::=  integer\n",
    "type        ::=  \"b\" | \"c\" | \"d\" | \"e\" | \"E\" | \"f\" | \"F\" | \"g\" | \"G\" | \"n\" | \"o\" | \"s\" | \"x\" | \"X\" | \"%\"\n",
    "```\n",
    "\n",
    "Format specification comes after a colon `:` if absent it means you called `str()` on the object.\n",
    "\n",
    "Lets go **backwards** :)\n",
    "\n",
    "### type\n",
    "\n",
    "`b` Binary - number in base 2    \n",
    "`c` Character - Converts the integer to the corresponding unicode character  \n",
    "`d` Decimal - number in base 10  \n",
    "`o` Octal - number in base 8  \n",
    "`x` Hex - number in base 16, lower- case letters  \n",
    "`X` Hex - number in base 16, upper- case letters  \n",
    "`e` Exponent notation - using e  \n",
    "`E` Exponent notation - using E  \n",
    "`f` Fixed point  \n",
    "`%` Percentage - Multiplies the number by 100 and displays in fixed `'f'` format, followed by a percent sign\n"
   ]
  },
  {
   "cell_type": "code",
   "execution_count": null,
   "metadata": {},
   "outputs": [],
   "source": [
    "'{n:b}'.format(n=129)"
   ]
  },
  {
   "cell_type": "code",
   "execution_count": null,
   "metadata": {},
   "outputs": [],
   "source": [
    "'{0:c}'.format(80)"
   ]
  },
  {
   "cell_type": "code",
   "execution_count": null,
   "metadata": {},
   "outputs": [],
   "source": [
    "'{:d}'.format(0o30)"
   ]
  },
  {
   "cell_type": "code",
   "execution_count": null,
   "metadata": {},
   "outputs": [],
   "source": [
    "'{:x}'.format(255)"
   ]
  },
  {
   "cell_type": "code",
   "execution_count": null,
   "metadata": {},
   "outputs": [],
   "source": [
    "'{:e}'.format(0.000421)"
   ]
  },
  {
   "cell_type": "code",
   "execution_count": null,
   "metadata": {},
   "outputs": [],
   "source": [
    "'{:f}'.format(3.14159265359)"
   ]
  },
  {
   "cell_type": "code",
   "execution_count": null,
   "metadata": {},
   "outputs": [],
   "source": [
    "'{:%}'.format(0.271)"
   ]
  },
  {
   "cell_type": "markdown",
   "metadata": {},
   "source": [
    "### precision"
   ]
  },
  {
   "cell_type": "code",
   "execution_count": null,
   "metadata": {},
   "outputs": [],
   "source": [
    "'{:.0%}'.format(0.271)"
   ]
  },
  {
   "cell_type": "code",
   "execution_count": null,
   "metadata": {},
   "outputs": [],
   "source": [
    "'{:.2f}'.format(3.14159265359)"
   ]
  },
  {
   "cell_type": "code",
   "execution_count": null,
   "metadata": {},
   "outputs": [],
   "source": [
    "'{:.1e}'.format(0.000421)"
   ]
  },
  {
   "cell_type": "markdown",
   "metadata": {},
   "source": [
    "### width"
   ]
  },
  {
   "cell_type": "code",
   "execution_count": null,
   "metadata": {},
   "outputs": [],
   "source": [
    "'{:10}'.format('Freddy')"
   ]
  },
  {
   "cell_type": "code",
   "execution_count": null,
   "metadata": {},
   "outputs": [],
   "source": [
    "'{:6.2f}'.format(3.14159265359)"
   ]
  },
  {
   "cell_type": "code",
   "execution_count": null,
   "metadata": {},
   "outputs": [],
   "source": [
    "'{:6d}'.format(4032)"
   ]
  },
  {
   "cell_type": "code",
   "execution_count": null,
   "metadata": {},
   "outputs": [],
   "source": [
    "'{:06d}'.format(4032)"
   ]
  },
  {
   "cell_type": "code",
   "execution_count": null,
   "metadata": {},
   "outputs": [],
   "source": [
    "'{:06.2f}'.format(3.14159265359)"
   ]
  },
  {
   "cell_type": "markdown",
   "metadata": {},
   "source": [
    "### Alignment\n",
    "\n",
    "#### fill \n",
    "Fill character -  `space` is used by default  \n",
    "\n",
    "#### align\n",
    "`<` Left-aligne within the available space (default for most types)  \n",
    "`>` Right-aligne within the available space (default for numbers)  \n",
    "`=` Padding is placed after the sign (if any) but before the digits   \n",
    "`^` Centered within the available spac  \n",
    "\n",
    "#### sign\n",
    "\n",
    "`+` A sign should be used for both positive and negative numbers  \n",
    "`-` A sign should be used only for negative numbers (default)   \n",
    "`Space` A leading space should be used on positive numbers, and a minus sign on negative numbers"
   ]
  },
  {
   "cell_type": "code",
   "execution_count": null,
   "metadata": {},
   "outputs": [],
   "source": [
    "names = [('Ali', 'Mirsadeghi'),\n",
    "         ('Mina', 'Khojeiri'),\n",
    "         ('Reza', 'Bagheri'),\n",
    "         ('Anoosha', 'Mosaddegh'),\n",
    "         ('Kamyar', 'Salimi'),\n",
    "         ('Neda', 'Akbari')]"
   ]
  },
  {
   "cell_type": "code",
   "execution_count": null,
   "metadata": {},
   "outputs": [],
   "source": [
    "for name in names:\n",
    "    print('{first} {last}'.format(first=name[0], last=name[1]))\n"
   ]
  },
  {
   "cell_type": "code",
   "execution_count": null,
   "metadata": {},
   "outputs": [],
   "source": [
    "for name in names:\n",
    "    print('{first:7} {last}'.format(first=name[0], last=name[1]))"
   ]
  },
  {
   "cell_type": "code",
   "execution_count": null,
   "metadata": {},
   "outputs": [],
   "source": [
    "for name in names:\n",
    "    print('{first:<7} {last}'.format(first=name[0], last=name[1]))"
   ]
  },
  {
   "cell_type": "code",
   "execution_count": null,
   "metadata": {},
   "outputs": [],
   "source": [
    "for name in names:\n",
    "    print('{first:_<7} {last}'.format(first=name[0], last=name[1]))"
   ]
  },
  {
   "cell_type": "code",
   "execution_count": null,
   "metadata": {},
   "outputs": [],
   "source": [
    "for name in names:\n",
    "    print('{first:#>7} {last:#<10}'.format(first=name[0], last=name[1]))"
   ]
  },
  {
   "cell_type": "code",
   "execution_count": null,
   "metadata": {},
   "outputs": [],
   "source": [
    "'{:\\u2588^20}'.format('evolution')"
   ]
  },
  {
   "cell_type": "code",
   "execution_count": null,
   "metadata": {},
   "outputs": [],
   "source": [
    "'{0:=8d}'.format(-12)"
   ]
  },
  {
   "cell_type": "code",
   "execution_count": null,
   "metadata": {},
   "outputs": [],
   "source": [
    "numbers = [10, -3, 51, 1024, -49, -456, 21]"
   ]
  },
  {
   "cell_type": "code",
   "execution_count": null,
   "metadata": {},
   "outputs": [],
   "source": [
    "for n in numbers:\n",
    "    print('{:-}'.format(n))"
   ]
  },
  {
   "cell_type": "code",
   "execution_count": null,
   "metadata": {},
   "outputs": [],
   "source": [
    "for n in numbers:\n",
    "    print('{:+}'.format(n))"
   ]
  },
  {
   "cell_type": "code",
   "execution_count": null,
   "metadata": {},
   "outputs": [],
   "source": [
    "for n in numbers:\n",
    "    print('{: }'.format(n))"
   ]
  },
  {
   "cell_type": "code",
   "execution_count": null,
   "metadata": {},
   "outputs": [],
   "source": [
    "for n in numbers:\n",
    "    print('{:0>+6}'.format(n))"
   ]
  },
  {
   "cell_type": "code",
   "execution_count": null,
   "metadata": {},
   "outputs": [],
   "source": [
    "for n in numbers:\n",
    "    print('{:0=+6}'.format(n))"
   ]
  },
  {
   "cell_type": "markdown",
   "metadata": {},
   "source": [
    "### #\n",
    "The `#` option is only valid for integers, and only for binary, octal, or hexadecimal output. If present, it specifies that the output will be prefixed by `0b`, `0o`, or `0x`, respectively.\n",
    "\n"
   ]
  },
  {
   "cell_type": "code",
   "execution_count": null,
   "metadata": {},
   "outputs": [],
   "source": [
    "'{:x}'.format(231)"
   ]
  },
  {
   "cell_type": "code",
   "execution_count": null,
   "metadata": {},
   "outputs": [],
   "source": [
    "'{:#x}'.format(231)"
   ]
  },
  {
   "cell_type": "markdown",
   "metadata": {},
   "source": [
    "### , (thousands separator)\n",
    "\n"
   ]
  },
  {
   "cell_type": "code",
   "execution_count": null,
   "metadata": {},
   "outputs": [],
   "source": [
    "'{:,}'.format(74123456000)"
   ]
  },
  {
   "cell_type": "markdown",
   "metadata": {},
   "source": [
    "## Getitem and Getattr\n",
    "\n",
    "Formatter supports accessing objects that support `__getitem__` or `__getattr__` like for example dictionaries and lists"
   ]
  },
  {
   "cell_type": "code",
   "execution_count": null,
   "metadata": {},
   "outputs": [],
   "source": [
    "point = (0, 10)\n",
    "\n",
    "'X:{p[0]} Y:{p[1]}'.format(p=point)"
   ]
  },
  {
   "cell_type": "code",
   "execution_count": null,
   "metadata": {},
   "outputs": [],
   "source": [
    "tochal = {'latitude': 35.884224, 'longitude': 51.419840}\n",
    "\n",
    "url = 'https://www.google.com/maps/?q={coord[latitude]},{coord[longitude]}'.format(coord=tochal)\n",
    "print(url)"
   ]
  },
  {
   "cell_type": "code",
   "execution_count": null,
   "metadata": {},
   "outputs": [],
   "source": [
    "class NeutronStar:\n",
    "    name = 'PSR J1614-223'\n",
    "    mass = 3940000000000000000000000000000\n",
    "\n",
    "'{p.mass:.2e} KG'.format(p=NeutronStar())"
   ]
  },
  {
   "cell_type": "markdown",
   "metadata": {},
   "source": [
    "### Type specific formatting"
   ]
  },
  {
   "cell_type": "code",
   "execution_count": null,
   "metadata": {},
   "outputs": [],
   "source": [
    "from datetime import datetime\n",
    "\n",
    "'{:%A %dth of %B, %Y}'.format(datetime(2536, 10, 26, 11, 34, 51))\n",
    "\n",
    "# https://docs.python.org/3/library/datetime.html#strftime-and-strptime-behavior"
   ]
  },
  {
   "cell_type": "markdown",
   "metadata": {},
   "source": [
    "### Parametrized formats\n",
    "\n",
    "formatting accepts all of the parts to be specified dynamically using parametrization. format expressions appear in braces that can be anywhere in the parent format after the colon."
   ]
  },
  {
   "cell_type": "code",
   "execution_count": null,
   "metadata": {},
   "outputs": [],
   "source": [
    "names = [('Ali', 'Mirsadeghi'),\n",
    "         ('Mina', 'Khojeiri'),\n",
    "         ('Reza', 'Bagheri'),\n",
    "         ('Anoosha', 'Mosaddegh'),\n",
    "         ('Kamyar', 'Salimi'),\n",
    "         ('Neda', 'Akbari'),\n",
    "         ('Ashrafossadat', 'Darbandi')]\n",
    "\n",
    "for name in names:\n",
    "    print('{first:{len}} {last}'.format(first=name[0], last=name[1], len=max([len(x[0]) for x in names])))"
   ]
  },
  {
   "cell_type": "code",
   "execution_count": null,
   "metadata": {},
   "outputs": [],
   "source": [
    "for first, last in names:\n",
    "    box = '{corner}{0:{border}>{width}}{corner}\\n{side}{title:^{width}}{side}\\n{corner}{0:{border}>{width}}{corner}'\n",
    "    print(box.format('', border='=', side='\\u2016', corner='*', title=first, width=len(first) + 2))\n",
    "    print(box.format('', border='-', side='|', corner='+', title=last, width=len(last) + 10))"
   ]
  }
 ],
 "metadata": {
  "kernelspec": {
   "display_name": "Python 3",
   "language": "python",
   "name": "python3"
  },
  "language_info": {
   "codemirror_mode": {
    "name": "ipython",
    "version": 3
   },
   "file_extension": ".py",
   "mimetype": "text/x-python",
   "name": "python",
   "nbconvert_exporter": "python",
   "pygments_lexer": "ipython3",
   "version": "3.7.3"
  }
 },
 "nbformat": 4,
 "nbformat_minor": 2
}
