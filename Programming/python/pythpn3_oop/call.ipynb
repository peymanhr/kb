{
 "cells": [
  {
   "cell_type": "code",
   "execution_count": 15,
   "metadata": {},
   "outputs": [],
   "source": [
    "class Foo():\n",
    "    a = 12\n",
    "    def __call__(self):\n",
    "        return 7\n",
    "\n",
    "class Bar(Foo):\n",
    "    b = 13\n",
    "\n",
    "class pint(int):\n",
    "    def isprime(self):\n",
    "        from math import sqrt\n",
    "        for i in range(2, int(sqrt(self))+1):\n",
    "            if self % i == 0:\n",
    "                return False\n",
    "        return True\n",
    "    \n",
    "#a = Bar()\n",
    "#dir(a)"
   ]
  },
  {
   "cell_type": "code",
   "execution_count": 17,
   "metadata": {},
   "outputs": [
    {
     "data": {
      "text/plain": [
       "True"
      ]
     },
     "execution_count": 17,
     "metadata": {},
     "output_type": "execute_result"
    }
   ],
   "source": [
    "a = pint(11)\n",
    "a.isprime()"
   ]
  },
  {
   "cell_type": "code",
   "execution_count": null,
   "metadata": {},
   "outputs": [],
   "source": []
  }
 ],
 "metadata": {
  "kernelspec": {
   "display_name": "Python 3",
   "language": "python",
   "name": "python3"
  },
  "language_info": {
   "codemirror_mode": {
    "name": "ipython",
    "version": 3
   },
   "file_extension": ".py",
   "mimetype": "text/x-python",
   "name": "python",
   "nbconvert_exporter": "python",
   "pygments_lexer": "ipython3",
   "version": "3.7.3"
  }
 },
 "nbformat": 4,
 "nbformat_minor": 2
}
