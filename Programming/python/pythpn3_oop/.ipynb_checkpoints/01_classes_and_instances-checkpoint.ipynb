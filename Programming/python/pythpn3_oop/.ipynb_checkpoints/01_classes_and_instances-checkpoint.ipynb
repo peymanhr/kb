{
 "cells": [
  {
   "cell_type": "markdown",
   "metadata": {},
   "source": [
    "# Classes and Instances\n",
    "\n",
    "**`by: peymanhr`**"
   ]
  },
  {
   "cell_type": "markdown",
   "metadata": {},
   "source": [
    "## What is a class?\n",
    "\n",
    "Classes are `callable objects` like functions that create and return other objects when called. for example ***int*** is a class, we use it to create a integer object. Without passing any argument it returns ***0***. This zero is an object created from class int."
   ]
  },
  {
   "cell_type": "code",
   "execution_count": null,
   "metadata": {},
   "outputs": [],
   "source": [
    "n = int()\n",
    "n"
   ]
  },
  {
   "cell_type": "markdown",
   "metadata": {},
   "source": [
    "***type*** is a function which can tell us what class an object is made of."
   ]
  },
  {
   "cell_type": "code",
   "execution_count": null,
   "metadata": {},
   "outputs": [],
   "source": [
    "type(n)"
   ]
  },
  {
   "cell_type": "markdown",
   "metadata": {},
   "source": [
    "When I create integers with `n = 5`, it is just a **shortcut** for `n = int(5)`."
   ]
  },
  {
   "cell_type": "code",
   "execution_count": null,
   "metadata": {},
   "outputs": [],
   "source": [
    "n1 = 5\n",
    "n2 = int(5)\n",
    "n1 is n2"
   ]
  },
  {
   "cell_type": "markdown",
   "metadata": {},
   "source": [
    "The same thing is true about other classes, ***float***, ***list***, ***dict***, ***str***, and so on. We use these classes everyday to create objects we need in our programs. `[] {} \"\"` are just shortcuts to create these classes."
   ]
  },
  {
   "cell_type": "code",
   "execution_count": null,
   "metadata": {},
   "outputs": [],
   "source": [
    "f = float()\n",
    "l = list()\n",
    "d = dict()\n",
    "s = str()\n",
    "\n",
    "print(type(f))\n",
    "print(type(l))\n",
    "print(type(d))\n",
    "print(type(s))\n",
    "\n",
    "print(f == 0.0)\n",
    "print(l == [])\n",
    "print(d == {})\n",
    "print(s == '')"
   ]
  },
  {
   "cell_type": "markdown",
   "metadata": {},
   "source": [
    "It is perfectly fine to use python built-in classes but sometimes we need to create classes of our own. The same function `type` which we used to determine the class of an object is also used to create other classes.  \n",
    "\n",
    "***type*** creates and returns `class objects`. We call *type*, `metaclass` because it creates classes.\n",
    "\n",
    "The above sentence means:\n",
    "\n",
    "* If I want to create a class, I need to call ***type*** and it returns a class to me.\n",
    "* Classes are objects themselves.  \n",
    "\n",
    "\n",
    "type accepts 3 positional arguments:  \n",
    "\n",
    "* The name of the class you are creating.\n",
    "* A tuple of base classes \n",
    "* A dict of attributes"
   ]
  },
  {
   "cell_type": "code",
   "execution_count": null,
   "metadata": {},
   "outputs": [],
   "source": [
    "type('Foo', (), {})"
   ]
  },
  {
   "cell_type": "markdown",
   "metadata": {},
   "source": [
    "Obviously if I want use to this class, I need to assign a name to it, like everything else that we assign names to. "
   ]
  },
  {
   "cell_type": "code",
   "execution_count": null,
   "metadata": {},
   "outputs": [],
   "source": [
    "a = type('Foo', (), {})\n",
    "a"
   ]
  },
  {
   "cell_type": "markdown",
   "metadata": {},
   "source": [
    "The name we choose to refer to a class can be anything but It is advised to choose the same name we used when creating the class."
   ]
  },
  {
   "cell_type": "code",
   "execution_count": null,
   "metadata": {},
   "outputs": [],
   "source": [
    "Foo = type('Foo', (), {})\n",
    "Foo"
   ]
  },
  {
   "cell_type": "markdown",
   "metadata": {},
   "source": [
    "Ok we have a class. what now? **Nothing**.  \n",
    "What we do with other classes? we create objects from them. So we can create objects from our own class. That is the same thing. This process is called ***instantiation***, and objects we create are called ***instance***."
   ]
  },
  {
   "cell_type": "code",
   "execution_count": null,
   "metadata": {},
   "outputs": [],
   "source": [
    "obj1 = Foo()\n",
    "obj2 = list()\n",
    "\n",
    "print(type(obj1))\n",
    "print(type(obj2))"
   ]
  },
  {
   "cell_type": "markdown",
   "metadata": {},
   "source": [
    "Everything in python is object. but for clarity we use these names.\n",
    "* Objects created from calling a class is called ***instance***\n",
    "* ***Classes*** are objects created from calling type.\n",
    "* type is also a class - therefore an object -. we call it ***metaclass*** because this special class creates other classes.\n",
    "\n",
    "\n",
    "\n",
    "  \n"
   ]
  },
  {
   "cell_type": "code",
   "execution_count": null,
   "metadata": {},
   "outputs": [],
   "source": [
    "type(type)"
   ]
  },
  {
   "cell_type": "markdown",
   "metadata": {},
   "source": [
    "## Creating a class\n",
    "\n",
    "To create a class we need 3 things:\n",
    "\n",
    "* A name for the class.\n",
    "* A tuple of othe classes to inherit attributes from.\n",
    "* A dictionary of attibutes whose items can be anything."
   ]
  },
  {
   "cell_type": "markdown",
   "metadata": {},
   "source": [
    "### Class Attributes\n",
    "\n",
    "A class holds a dictionary of attributes, this ***dict*** can be empty or contains items. ***Class attributes*** are accessible from the ***class*** itself and ***instances*** created from it."
   ]
  },
  {
   "cell_type": "code",
   "execution_count": null,
   "metadata": {
    "scrolled": true
   },
   "outputs": [],
   "source": [
    "attributes = {'material': 'wood', 'colors': ['red', 'yellow']}\n",
    "Foo = type('Foo', (), attributes)\n",
    "\n",
    "print(Foo.material)\n",
    "\n",
    "t = Foo()\n",
    "print(t.material)\n",
    "\n",
    "for color in t.colors:\n",
    "    print(color)"
   ]
  },
  {
   "cell_type": "markdown",
   "metadata": {},
   "source": [
    "Attributes can also be added or changed after creating a class."
   ]
  },
  {
   "cell_type": "code",
   "execution_count": null,
   "metadata": {},
   "outputs": [],
   "source": [
    "Foo.price = 40.5\n",
    "Foo.price"
   ]
  },
  {
   "cell_type": "markdown",
   "metadata": {},
   "source": [
    "### Inheritance  \n",
    "Inheritance means a class can burrow other classes `attributes`. If I provide an empty tuple when creating a class, by default the class `object` is used as the base class."
   ]
  },
  {
   "cell_type": "code",
   "execution_count": null,
   "metadata": {},
   "outputs": [],
   "source": [
    "Foo.__base__"
   ]
  },
  {
   "cell_type": "code",
   "execution_count": null,
   "metadata": {},
   "outputs": [],
   "source": [
    "Bar = type('Bar', (Foo,), {})\n",
    "Bar.__base__"
   ]
  },
  {
   "cell_type": "markdown",
   "metadata": {},
   "source": [
    "Objects created fom `Bar` can access `Foo` attributes. becuse **Foo** is a base class for **Bar**. "
   ]
  },
  {
   "cell_type": "code",
   "execution_count": null,
   "metadata": {},
   "outputs": [],
   "source": [
    "b = Bar()\n",
    "b.colors"
   ]
  },
  {
   "cell_type": "markdown",
   "metadata": {},
   "source": [
    "Although rarely used, Python classes support **Multiple Inheritance**. It means inheriting attrinutes from more than one base class. "
   ]
  },
  {
   "cell_type": "code",
   "execution_count": null,
   "metadata": {},
   "outputs": [],
   "source": [
    "ExampleClass = type('ExampleClass', (Foo,int), {})\n",
    "\n",
    "ExampleClass.__bases__"
   ]
  },
  {
   "cell_type": "markdown",
   "metadata": {},
   "source": [
    "### `class` keyword\n",
    "\n",
    "Python offers a shortcut to create classes. Instead of calling type directly, I can use `class` keyword. It is more a beautiful syntax but it does essentially the same thing."
   ]
  },
  {
   "cell_type": "code",
   "execution_count": null,
   "metadata": {},
   "outputs": [],
   "source": [
    "Foo = type('Foo', (), {'material': 'wood', 'colors': ['red', 'yellow']})\n",
    "Bar = type('Bar', (Foo,), {'weight': 34})\n",
    "\n",
    "print(Bar.material)\n",
    "print(Bar.colors)\n",
    "print(Bar.weight)"
   ]
  },
  {
   "cell_type": "code",
   "execution_count": null,
   "metadata": {},
   "outputs": [],
   "source": [
    "class Foo():\n",
    "    material = 'wood'\n",
    "    colors = ['red', 'yellow']\n",
    "\n",
    "class Bar(Foo):\n",
    "    weight = 34\n",
    "\n",
    "print(Bar.material)\n",
    "print(Bar.colors)\n",
    "print(Bar.weight)"
   ]
  },
  {
   "cell_type": "markdown",
   "metadata": {},
   "source": [
    "### `object` base class"
   ]
  },
  {
   "cell_type": "markdown",
   "metadata": {},
   "source": [
    "Remember I did not define a base class for ***Foo*** so the class ***object*** is the base for Foo. So Foo inherits attributes from ***object***, therefor ***Bar*** inherits all from Foo.  \n",
    "\n",
    "To see the list of all attributes of a class I can use `dir()` function."
   ]
  },
  {
   "cell_type": "code",
   "execution_count": null,
   "metadata": {},
   "outputs": [],
   "source": [
    "dir(Bar)"
   ]
  },
  {
   "cell_type": "markdown",
   "metadata": {},
   "source": [
    "You can see a lot of attributes starting and ending with double underscores. These are attributes inherited from ***object*** class."
   ]
  },
  {
   "cell_type": "markdown",
   "metadata": {},
   "source": [
    "## Instance attributes\n",
    "\n",
    "Instances created from a class share their ***class attributes***. but ***instance attributes*** created in an instance after creation are local to that instance."
   ]
  },
  {
   "cell_type": "code",
   "execution_count": null,
   "metadata": {},
   "outputs": [],
   "source": [
    "class Robot():\n",
    "    level = 5\n",
    "\n",
    "mina = Robot()\n",
    "sara = Robot()\n",
    "\n",
    "print(mina.level)\n",
    "print(sara.level)"
   ]
  },
  {
   "cell_type": "code",
   "execution_count": null,
   "metadata": {},
   "outputs": [],
   "source": [
    "Robot.level = 6\n",
    "\n",
    "print(mina.level)\n",
    "print(sara.level)"
   ]
  },
  {
   "cell_type": "markdown",
   "metadata": {},
   "source": [
    "But the above is a class attribute. and it does not exist in instance `__dict__`."
   ]
  },
  {
   "cell_type": "code",
   "execution_count": null,
   "metadata": {},
   "outputs": [],
   "source": [
    "mina.__dict__"
   ]
  },
  {
   "cell_type": "markdown",
   "metadata": {},
   "source": [
    "If I add an attribute to `sara`, then it is an ***instance attribute*** and it is local to the object sara."
   ]
  },
  {
   "cell_type": "code",
   "execution_count": null,
   "metadata": {},
   "outputs": [],
   "source": [
    "sara.age = 21\n",
    "sara.__dict__"
   ]
  },
  {
   "cell_type": "code",
   "execution_count": null,
   "metadata": {},
   "outputs": [],
   "source": [
    "mina.__dict__"
   ]
  },
  {
   "cell_type": "markdown",
   "metadata": {},
   "source": [
    "If the name of an ***instance attribute*** is the sam "
   ]
  }
 ],
 "metadata": {
  "kernelspec": {
   "display_name": "Python 3",
   "language": "python",
   "name": "python3"
  },
  "language_info": {
   "codemirror_mode": {
    "name": "ipython",
    "version": 3
   },
   "file_extension": ".py",
   "mimetype": "text/x-python",
   "name": "python",
   "nbconvert_exporter": "python",
   "pygments_lexer": "ipython3",
   "version": "3.7.4"
  }
 },
 "nbformat": 4,
 "nbformat_minor": 2
}
